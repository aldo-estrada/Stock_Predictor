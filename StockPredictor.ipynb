{
 "cells": [
  {
   "cell_type": "code",
   "execution_count": 2,
   "id": "54ff51c6",
   "metadata": {},
   "outputs": [],
   "source": [
    "import numpy as np\n",
    "import pandas as pd\n",
    "import matplotlib.pyplot as plt\n",
    "from datetime import datetime, timedelta\n",
    "import yfinance as yf "
   ]
  },
  {
   "cell_type": "code",
   "execution_count": 4,
   "id": "4b4a1333",
   "metadata": {},
   "outputs": [
    {
     "name": "stdout",
     "output_type": "stream",
     "text": [
      "0       MMM\n",
      "1       AOS\n",
      "2       ABT\n",
      "3      ABBV\n",
      "4       ACN\n",
      "       ... \n",
      "498     YUM\n",
      "499    ZBRA\n",
      "500     ZBH\n",
      "501    ZION\n",
      "502     ZTS\n",
      "Name: Symbol, Length: 503, dtype: object\n"
     ]
    }
   ],
   "source": [
    "tickers = pd.read_html('https://en.wikipedia.org/wiki/List_of_S&P_500_companies')[0]['Symbol']\n",
    "\n",
    "print(tickers)"
   ]
  },
  {
   "cell_type": "code",
   "execution_count": null,
   "id": "4f6dcf9b",
   "metadata": {},
   "outputs": [],
   "source": [
    "for ticker in tickers[0:1]:\n",
    "    end_date = datetime.now()\n",
    "    start_date = end_date - timedelta(days=15*365)\n",
    "    \n",
    "    history = yf.download(ticker, start=start_date, end)"
   ]
  }
 ],
 "metadata": {
  "kernelspec": {
   "display_name": "Python 3 (ipykernel)",
   "language": "python",
   "name": "python3"
  },
  "language_info": {
   "codemirror_mode": {
    "name": "ipython",
    "version": 3
   },
   "file_extension": ".py",
   "mimetype": "text/x-python",
   "name": "python",
   "nbconvert_exporter": "python",
   "pygments_lexer": "ipython3",
   "version": "3.11.4"
  }
 },
 "nbformat": 4,
 "nbformat_minor": 5
}
